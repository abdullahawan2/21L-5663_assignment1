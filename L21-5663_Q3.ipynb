{
 "cells": [
  {
   "cell_type": "code",
   "execution_count": 1,
   "id": "b707be66",
   "metadata": {},
   "outputs": [],
   "source": [
    "import pandas as pd\n",
    "import numpy as np\n",
    "%matplotlib inline\n",
    "from matplotlib import pyplot as plt"
   ]
  },
  {
   "cell_type": "code",
   "execution_count": 2,
   "id": "c7742d2c",
   "metadata": {},
   "outputs": [],
   "source": [
    "file = pd.read_csv('StudentMarkSheet.csv')                      #reading from csv file"
   ]
  },
  {
   "cell_type": "code",
   "execution_count": 3,
   "id": "2a61c6f9",
   "metadata": {},
   "outputs": [
    {
     "data": {
      "text/plain": [
       "47.89473684210526"
      ]
     },
     "execution_count": 3,
     "metadata": {},
     "output_type": "execute_result"
    }
   ],
   "source": [
    "bio_marks = file.loc[(file['Exam name']=='Biology')]            #extracting biology rows from file\n",
    "bio_marks\n",
    "bio_avg = bio_marks['Marks'].mean()\n",
    "bio_avg"
   ]
  },
  {
   "cell_type": "code",
   "execution_count": 4,
   "id": "6b4c7e41",
   "metadata": {},
   "outputs": [
    {
     "data": {
      "text/plain": [
       "50.57692307692308"
      ]
     },
     "execution_count": 4,
     "metadata": {},
     "output_type": "execute_result"
    }
   ],
   "source": [
    "chem_marks = file.loc[(file['Exam name']=='Chemistry')]          #extracting chem rows from file\n",
    "chem_marks\n",
    "chem_avg = chem_marks['Marks'].mean()\n",
    "chem_avg"
   ]
  },
  {
   "cell_type": "code",
   "execution_count": 5,
   "id": "46223905",
   "metadata": {},
   "outputs": [
    {
     "data": {
      "text/plain": [
       "48.97222222222222"
      ]
     },
     "execution_count": 5,
     "metadata": {},
     "output_type": "execute_result"
    }
   ],
   "source": [
    "math_marks = file.loc[(file['Exam name'] == 'Mathematics')]        #extracting maths rows from file\n",
    "math_marks\n",
    "math_avg = math_marks['Marks'].mean()\n",
    "math_avg"
   ]
  },
  {
   "cell_type": "code",
   "execution_count": 6,
   "id": "b15bbb40",
   "metadata": {},
   "outputs": [
    {
     "data": {
      "text/plain": [
       "56.026315789473685"
      ]
     },
     "execution_count": 6,
     "metadata": {},
     "output_type": "execute_result"
    }
   ],
   "source": [
    "sociology_marks = file.loc[(file['Exam name'] == 'Sociology')]     #extracting sociology rows from file\n",
    "sociology_marks\n",
    "sociology_avg = sociology_marks['Marks'].mean()\n",
    "sociology_avg"
   ]
  },
  {
   "cell_type": "code",
   "execution_count": 7,
   "id": "3f73a402",
   "metadata": {},
   "outputs": [
    {
     "data": {
      "text/plain": [
       "51.76190476190476"
      ]
     },
     "execution_count": 7,
     "metadata": {},
     "output_type": "execute_result"
    }
   ],
   "source": [
    "phy_marks = file.loc[(file['Exam name'] == 'Physics')]               #extracting physics rows from file\n",
    "phy_marks\n",
    "phy_avg = phy_marks['Marks'].mean()\n",
    "phy_avg"
   ]
  },
  {
   "cell_type": "code",
   "execution_count": 8,
   "id": "5c8ee5ac",
   "metadata": {},
   "outputs": [],
   "source": [
    "average = np.array([sociology_avg, math_avg, phy_avg, chem_avg, bio_avg])      # array of average marks\n",
    "subs = [\"Sociology\", \"Math\", \"Physics\", \"Chemistry\", \"Biology\"]"
   ]
  },
  {
   "cell_type": "code",
   "execution_count": 9,
   "id": "2ea74594",
   "metadata": {},
   "outputs": [
    {
     "data": {
      "image/png": "[encoded data removed]",
      "text/plain": [
       "<Figure size 640x480 with 1 Axes>"
      ]
     },
     "metadata": {},
     "output_type": "display_data"
    }
   ],
   "source": [
    "plt.bar(range(0,5), average)                                        # making bar chart \n",
    "plt.xticks(range(0,5), subs)\n",
    "plt.ylabel(\"Marks\", fontweight = \"bold\")\n",
    "plt.xlabel(\"Subjects\", fontweight = \"bold\")\n",
    "plt.show()"
   ]
  },
  {
   "cell_type": "code",
   "execution_count": null,
   "id": "32b6010e",
   "metadata": {},
   "outputs": [],
   "source": []
  }
 ],
 "metadata": {
  "kernelspec": {
   "display_name": "Python 3 (ipykernel)",
   "language": "python",
   "name": "python3"
  },
  "language_info": {
   "codemirror_mode": {
    "name": "ipython",
    "version": 3
   },
   "file_extension": ".py",
   "mimetype": "text/x-python",
   "name": "python",
   "nbconvert_exporter": "python",
   "pygments_lexer": "ipython3",
   "version": "3.10.7"
  }
 },
 "nbformat": 4,
 "nbformat_minor": 5
}
