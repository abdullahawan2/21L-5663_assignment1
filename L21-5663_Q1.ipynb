{
 "cells": [
  {
   "cell_type": "code",
   "execution_count": 1,
   "id": "dd7234f9",
   "metadata": {
    "pycharm": {
     "name": "#%%\n"
    }
   },
   "outputs": [],
   "source": [
    "def check_input(matrix):\n",
    "    \n",
    "    n = len(matrix)\n",
    "    \n",
    "    for i in range(n):\n",
    "        for j in range(n):                               #checking if integer\n",
    "            if isinstance(matrix[i][j], int):\n",
    "                continue;\n",
    "            else:\n",
    "                return False\n",
    "       \n",
    "    for i in range(n):\n",
    "        for j in range(n):\n",
    "            temp=matrix[j][i]                            #checking duplicates in columns\n",
    "            for k in range(n):\n",
    "                 if temp == matrix[k][i] and k != j:\n",
    "                    return False\n",
    "                 else:\n",
    "                    continue\n",
    "                    \n",
    "    for i in range(n):\n",
    "        for j in range(n):                               #checking duplicates in rows\n",
    "            temp = matrix[i][j]\n",
    "            for k in range(n):\n",
    "                 if temp == matrix[i][k] & k != j:\n",
    "                    return False\n",
    "                 else:\n",
    "                    return True\n",
    "   \n",
    "\n"
   ]
  },
  {
   "cell_type": "code",
   "execution_count": 2,
   "id": "52c21c35",
   "metadata": {
    "pycharm": {
     "name": "#%%\n"
    }
   },
   "outputs": [],
   "source": [
    "\n",
    "test1 = [[1, 2, 3],\n",
    "        [2, 3, 1],\n",
    "        [3, 1, 2]]\n",
    "\n",
    "test2 = [[1, 2, 3, 4],\n",
    "        [2, 3, 1, 3],\n",
    "        [3, 1, 2, 3],\n",
    "        [4, 4, 4, 4]]\n",
    "\n",
    "test3 = [['a', 'b', 'c'],\n",
    "        ['b', 'c', 'a'],\n",
    "        ['c', 'a', 'b']]\n",
    "\n"
   ]
  },
  {
   "cell_type": "code",
   "execution_count": 3,
   "id": "b1053ca6",
   "metadata": {
    "pycharm": {
     "name": "#%%\n"
    }
   },
   "outputs": [
    {
     "name": "stdout",
     "output_type": "stream",
     "text": [
      "True\n",
      "False\n",
      "False\n"
     ]
    }
   ],
   "source": [
    "print(check_input(test1)) # must return true\n",
    "print(check_input(test2)) # must return false\n",
    "print(check_input(test3)) # must return false"
   ]
  },
  {
   "cell_type": "code",
   "execution_count": null,
   "id": "5e5b9744",
   "metadata": {
    "pycharm": {
     "name": "#%%\n"
    }
   },
   "outputs": [],
   "source": []
  }
 ],
 "metadata": {
  "kernelspec": {
   "display_name": "Python 3 (ipykernel)",
   "language": "python",
   "name": "python3"
  },
  "language_info": {
   "codemirror_mode": {
    "name": "ipython",
    "version": 3
   },
   "file_extension": ".py",
   "mimetype": "text/x-python",
   "name": "python",
   "nbconvert_exporter": "python",
   "pygments_lexer": "ipython3",
   "version": "3.10.7"
  }
 },
 "nbformat": 4,
 "nbformat_minor": 5
}
